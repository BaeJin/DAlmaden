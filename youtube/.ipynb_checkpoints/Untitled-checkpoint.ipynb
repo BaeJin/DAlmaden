{
 "cells": [
  {
   "cell_type": "code",
   "execution_count": 2,
   "metadata": {},
   "outputs": [],
   "source": [
    "##YOUTUBE COMMENT CRAWLING\n",
    "#!pip install --upgrade google-api-python-client\n",
    "#!pip install --upgrade google-auth-oauthlib google-auth-httplib2"
   ]
  },
  {
   "cell_type": "code",
   "execution_count": 6,
   "metadata": {},
   "outputs": [],
   "source": [
    "import pickle\n",
    "import csv\n",
    "import os\n",
    "\n",
    "import google.oauth2.credentials\n",
    "\n",
    "from googleapiclient.discovery import build\n",
    "from googleapiclient.errors import HttpError\n",
    "from google_auth_oauthlib.flow import InstalledAppFlow\n",
    "from google.auth.transport.requests import Request"
   ]
  },
  {
   "cell_type": "code",
   "execution_count": 9,
   "metadata": {},
   "outputs": [],
   "source": [
    "from pathlib import Path"
   ]
  },
  {
   "cell_type": "code",
   "execution_count": 12,
   "metadata": {},
   "outputs": [],
   "source": [
    "cwd = str(Path.cwd())"
   ]
  },
  {
   "cell_type": "code",
   "execution_count": 21,
   "metadata": {},
   "outputs": [],
   "source": [
    "source_file = f'{cwd}/source/client_secret_youtube.json'"
   ]
  },
  {
   "cell_type": "code",
   "execution_count": 22,
   "metadata": {},
   "outputs": [],
   "source": [
    "CLIENT_SECRETS_FILE = source_file\n",
    "SCOPES = ['https://www.googleapis.com/auth/youtube.force-ssl']\n",
    "API_SERVICE_NAME = 'youtube'\n",
    "API_VERSION = 'v3'"
   ]
  },
  {
   "cell_type": "code",
   "execution_count": 23,
   "metadata": {},
   "outputs": [],
   "source": [
    "def get_authenticated_service():\n",
    "    credentials = None\n",
    "    if os.path.exists('token.pickle'):\n",
    "        with open('token.pickle', 'rb') as token:\n",
    "            credentials = pickle.load(token)\n",
    "    #  Check if the credentials are invalid or do not exist\n",
    "    if not credentials or not credentials.valid:\n",
    "        # Check if the credentials have expired\n",
    "        if credentials and credentials.expired and credentials.refresh_token:\n",
    "            credentials.refresh(Request())\n",
    "        else:\n",
    "            flow = InstalledAppFlow.from_client_secrets_file(\n",
    "                CLIENT_SECRETS_FILE, SCOPES)\n",
    "            credentials = flow.run_console()\n",
    "\n",
    "        # Save the credentials for the next run\n",
    "        with open('token.pickle', 'wb') as token:\n",
    "            pickle.dump(credentials, token)\n",
    "\n",
    "    return build(API_SERVICE_NAME, API_VERSION, credentials = credentials)"
   ]
  },
  {
   "cell_type": "code",
   "execution_count": 24,
   "metadata": {},
   "outputs": [],
   "source": [
    "def get_video_comments(service, **kwargs):\n",
    "    comments = []\n",
    "    results = service.commentThreads().list(**kwargs).execute()\n",
    "\n",
    "    while results:\n",
    "        for item in results['items']:\n",
    "            comment = item['snippet']['topLevelComment']['snippet']['textDisplay']\n",
    "            comment2 = item['snippet']['topLevelComment']['snippet']['publishedAt']\n",
    "            comment3 = item['snippet']['topLevelComment']['snippet']['authorDisplayName']\n",
    "            print(comment)\n",
    "            print(comment2)\n",
    "            print(comment3)\n",
    "            print('==============================')\n",
    "            comments.append(comment)\n",
    "\n",
    "        # Check if another page exists\n",
    "        if 'nextPageToken' in results:\n",
    "            kwargs['pageToken'] = results['nextPageToken']\n",
    "            results = service.commentThreads().list(**kwargs).execute()\n",
    "        else:\n",
    "            break\n",
    "\n",
    "    return comments"
   ]
  },
  {
   "cell_type": "code",
   "execution_count": 25,
   "metadata": {},
   "outputs": [
    {
     "name": "stdout",
     "output_type": "stream",
     "text": [
      "Please visit this URL to authorize this application: https://accounts.google.com/o/oauth2/auth?response_type=code&client_id=526267581070-6ains352dt4ik5pnip318d41ce8tk0j7.apps.googleusercontent.com&redirect_uri=urn%3Aietf%3Awg%3Aoauth%3A2.0%3Aoob&scope=https%3A%2F%2Fwww.googleapis.com%2Fauth%2Fyoutube.force-ssl&state=shnd0SmCHbSF1RSdpQET0X8I2wPZBK&prompt=consent&access_type=offline\n",
      "Enter the authorization code: 4/1AY0e-g5-azTGhRY3WL8YQuxtHuhF0NeGRsOp9bAPC9bdabrL3z9rcMnqU80\n",
      "Enter a video_id: FcMSngyHp2Q\n",
      "시그널 재밌었지만 보면서 감정이 너무 많이 쏠리는 장면 때문에 힘들었음 그중 가장 힘들었던 부분은 바로 4회 ㅠㅠ 내일도 아니고 가상인데도 이렇게 공감이 되고 슬픈 장면은 ㅠㅠ\n",
      "2020-05-26T07:24:28Z\n",
      "요시\n",
      "==============================\n",
      "１９８９년~１９９５년~１９９７년~\n",
      "１９９９년~２０００년~２００１년~\n",
      "２００２년~２００３년~２００４년~\n",
      "２００５년.\n",
      "２０１５년~２０１６년~２０１７년.\n",
      "2020-04-27T08:27:36Z\n",
      "Mr. FBI\n",
      "==============================\n",
      "드라마도 이 노래도 참 좋아했는데 이렇게 영상으로 올려주시니 눈물나네요ㅠ\n",
      "2020-04-14T07:52:24Z\n",
      "굥이\n",
      "==============================\n",
      "ㅠ.ㅠ\n",
      "2019-11-03T06:07:57Z\n",
      "GH Lee\n",
      "==============================\n"
     ]
    }
   ],
   "source": [
    "if __name__ == '__main__':\n",
    "    # When running locally, disable OAuthlib's HTTPs verification. When\n",
    "    # running in production *do not* leave this option enabled.\n",
    "    os.environ['OAUTHLIB_INSECURE_TRANSPORT'] = '1'\n",
    "    service = get_authenticated_service()\n",
    "    video_id = input('Enter a video_id: ')\n",
    "    get_video_comments(service, part='snippet', videoId=video_id, textFormat='plainText')"
   ]
  }
 ],
 "metadata": {
  "kernelspec": {
   "display_name": "dalmaden",
   "language": "python",
   "name": "dalmaden"
  },
  "language_info": {
   "codemirror_mode": {
    "name": "ipython",
    "version": 3
   },
   "file_extension": ".py",
   "mimetype": "text/x-python",
   "name": "python",
   "nbconvert_exporter": "python",
   "pygments_lexer": "ipython3",
   "version": "3.8.5"
  }
 },
 "nbformat": 4,
 "nbformat_minor": 4
}
