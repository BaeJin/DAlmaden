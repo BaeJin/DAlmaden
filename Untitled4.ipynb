{
 "cells": [
  {
   "cell_type": "code",
   "execution_count": 1,
   "metadata": {},
   "outputs": [],
   "source": [
    "import pandas as pd\n",
    "import snscrape.modules.twitter as sntwitter\n",
    "import itertools\n",
    "from nltk import pos_tag\n",
    "from nltk.tokenize import word_tokenize, sent_tokenize\n",
    "from collections import Counter\n",
    "from nltk.corpus import stopwords\n",
    "from nltk import FreqDist\n",
    "import re\n",
    "from wordcloud import WordCloud\n",
    "import matplotlib.pyplot as plt"
   ]
  },
  {
   "cell_type": "code",
   "execution_count": 2,
   "metadata": {},
   "outputs": [],
   "source": [
    "from engine.sql.almaden import Sql"
   ]
  },
  {
   "cell_type": "code",
   "execution_count": 3,
   "metadata": {},
   "outputs": [],
   "source": [
    "import json"
   ]
  },
  {
   "cell_type": "code",
   "execution_count": 4,
   "metadata": {},
   "outputs": [],
   "source": [
    "db =  Sql(\"datacast2\")"
   ]
  },
  {
   "cell_type": "code",
   "execution_count": 5,
   "metadata": {},
   "outputs": [],
   "source": [
    "from pathlib import Path"
   ]
  },
  {
   "cell_type": "code",
   "execution_count": 6,
   "metadata": {},
   "outputs": [],
   "source": [
    "stopKeywordList = stopwords.words('english')\n",
    "stopKeywordList.append(\"https\")\n",
    "stopKeywordList.append(\"http\")"
   ]
  },
  {
   "cell_type": "code",
   "execution_count": 7,
   "metadata": {},
   "outputs": [
    {
     "name": "stdout",
     "output_type": "stream",
     "text": [
      "C:\\Users\\wodud\\PycharmProjects\\DAlmaden\\kano\\source\\fonts\\NanumBarunGothic.ttf\n"
     ]
    }
   ],
   "source": [
    "cwd = str(Path.cwd())\n",
    "fontname = \"NanumBarunGothic.ttf\"\n",
    "font_path = f\"{cwd}\\\\kano\\\\source\\\\fonts\\\\{fontname}\"\n",
    "print(font_path)"
   ]
  },
  {
   "cell_type": "code",
   "execution_count": 8,
   "metadata": {},
   "outputs": [],
   "source": [
    "def displayWordCloud(dict, background_color='white', width=1600, height=800):\n",
    "    wordcloud = WordCloud(font_path=font_path,\n",
    "                         stopwords = stopKeywordList,background_color=background_color,width=width,height=height).generate_from_frequencies(dict)\n",
    "    plt.figure(figsize = (15,10))\n",
    "    plt.imshow(wordcloud)\n",
    "    plt.axis(\"off\")\n",
    "    plt.show()"
   ]
  },
  {
   "cell_type": "code",
   "execution_count": 9,
   "metadata": {},
   "outputs": [],
   "source": [
    "def analyaze_tweets(df_coord, keyword, brand):\n",
    "    len_df = len(df_coord)\n",
    "    word_class_list = ['NN', 'NNS', 'NNP', 'NNPS']\n",
    "    pos = list()\n",
    "    words = list()\n",
    "    remove_list = pos_tag(word_tokenize(keyword.lower()))\n",
    "    for idx in df_coord.index:\n",
    "        pos.extend(pos_tag(word_tokenize(df_coord.at[idx,'content'])))\n",
    "\n",
    "    for p in pos:\n",
    "        if p[0] not in remove_list and p[1] in word_class_list:  # nltk\n",
    "            words.append(p[0].lower())\n",
    "                \n",
    "    counter = Counter(words)\n",
    "    most_common_noun = counter.most_common()\n",
    "    most_common_noun = list(filter(lambda c: len(c[0]) >= 2, most_common_noun))\n",
    "    most_common_noun = list(filter(lambda c: c[0] not in stopKeywordList, most_common_noun))\n",
    "    most_common_noun = list(filter(lambda c: c[1] >= 0, most_common_noun))\n",
    "    keyword_bog = pd.DataFrame(most_common_noun, columns=['keyword', 'count'])\n",
    "    keyword_bog.to_excel(f\"{str(cwd)}/kano/results/buzz/{keyword}_{loc}_{brand}_{len_df}.xlsx\")\n",
    "    return dict(most_common_noun),len_df\n"
   ]
  },
  {
   "cell_type": "code",
   "execution_count": 11,
   "metadata": {},
   "outputs": [],
   "source": [
    "keyword = 'sonnen home battery'"
   ]
  },
  {
   "cell_type": "code",
   "execution_count": 12,
   "metadata": {},
   "outputs": [],
   "source": [
    "loc = 'usa'\n",
    "\n",
    "\n",
    "df_coord = pd.DataFrame(itertools.islice(sntwitter.TwitterSearchScraper(\n",
    "    '{} near:\"{}\"'.format(keyword,loc)).get_items(), 6000))[['user', 'date','content']]\n",
    "df_coord['search_keyword'] = keyword\n",
    "df_coord['user_location'] = df_coord['user'].apply(lambda x: x['location'])\n",
    "df_coord['date'] = df_coord['date'].apply(lambda a: pd.to_datetime(a).date())"
   ]
  },
  {
   "cell_type": "code",
   "execution_count": 27,
   "metadata": {},
   "outputs": [],
   "source": [
    "p_tesla = r'.*(tesla)'\n",
    "p_lg = r'.*(lg chem)'\n",
    "p_sonnen = r'.*(sonnen)'\n",
    "p_generac = r'.*(generac)'\n",
    "p_byd = r'.*(byd)'\n",
    "df_coord['content'] = df_coord['content'].str.lower()\n"
   ]
  },
  {
   "cell_type": "code",
   "execution_count": 43,
   "metadata": {},
   "outputs": [],
   "source": [
    "df_coord_tesla = df_coord[df_coord['content'].str.match(p_tesla,flags=re.MULTILINE)]\n",
    "df_coord_lg = df_coord[df_coord['content'].str.match(p_lg,flags=re.MULTILINE)]\n",
    "df_coord_sonnen = df_coord[df_coord['content'].str.match(p_sonnen,flags=re.MULTILINE)]\n",
    "df_coord_generac = df_coord[df_coord['content'].str.match(p_generac,flags=re.MULTILINE)]\n",
    "df_coord_byd = df_coord[df_coord['content'].str.match(p_byd,flags=re.MULTILINE)]"
   ]
  },
  {
   "cell_type": "code",
   "execution_count": 13,
   "metadata": {},
   "outputs": [
    {
     "data": {
      "text/html": [
       "<div>\n",
       "<style scoped>\n",
       "    .dataframe tbody tr th:only-of-type {\n",
       "        vertical-align: middle;\n",
       "    }\n",
       "\n",
       "    .dataframe tbody tr th {\n",
       "        vertical-align: top;\n",
       "    }\n",
       "\n",
       "    .dataframe thead th {\n",
       "        text-align: right;\n",
       "    }\n",
       "</style>\n",
       "<table border=\"1\" class=\"dataframe\">\n",
       "  <thead>\n",
       "    <tr style=\"text-align: right;\">\n",
       "      <th></th>\n",
       "      <th>user</th>\n",
       "      <th>date</th>\n",
       "      <th>content</th>\n",
       "      <th>search_keyword</th>\n",
       "      <th>user_location</th>\n",
       "    </tr>\n",
       "  </thead>\n",
       "  <tbody>\n",
       "    <tr>\n",
       "      <th>0</th>\n",
       "      <td>{'username': 'ryfun', 'displayname': 'Scott Ry...</td>\n",
       "      <td>2020-07-10</td>\n",
       "      <td>Wake up with @timechols &amp;amp; @kcboyce as they...</td>\n",
       "      <td>sonnen home battery</td>\n",
       "      <td>Brunswick, GA</td>\n",
       "    </tr>\n",
       "    <tr>\n",
       "      <th>1</th>\n",
       "      <td>{'username': 'CNBlevins', 'displayname': 'Chad...</td>\n",
       "      <td>2019-04-07</td>\n",
       "      <td>\"Companies like sonnen have developed battery ...</td>\n",
       "      <td>sonnen home battery</td>\n",
       "      <td>Texas, USA</td>\n",
       "    </tr>\n",
       "    <tr>\n",
       "      <th>2</th>\n",
       "      <td>{'username': 'bougieblackbro', 'displayname': ...</td>\n",
       "      <td>2019-02-17</td>\n",
       "      <td>Sonnen has been one of the top competitors wit...</td>\n",
       "      <td>sonnen home battery</td>\n",
       "      <td>32.732577, -117.189463</td>\n",
       "    </tr>\n",
       "    <tr>\n",
       "      <th>3</th>\n",
       "      <td>{'username': 'bougieblackbro', 'displayname': ...</td>\n",
       "      <td>2019-02-17</td>\n",
       "      <td>Sonnen has been one of the top competitors wit...</td>\n",
       "      <td>sonnen home battery</td>\n",
       "      <td>32.732577, -117.189463</td>\n",
       "    </tr>\n",
       "    <tr>\n",
       "      <th>4</th>\n",
       "      <td>{'username': 'Verdeksolar', 'displayname': 'So...</td>\n",
       "      <td>2016-04-06</td>\n",
       "      <td>I'm impressed with Sonnen Battery stats compar...</td>\n",
       "      <td>sonnen home battery</td>\n",
       "      <td>Phoenix, AZ</td>\n",
       "    </tr>\n",
       "  </tbody>\n",
       "</table>\n",
       "</div>"
      ],
      "text/plain": [
       "                                                user        date  \\\n",
       "0  {'username': 'ryfun', 'displayname': 'Scott Ry...  2020-07-10   \n",
       "1  {'username': 'CNBlevins', 'displayname': 'Chad...  2019-04-07   \n",
       "2  {'username': 'bougieblackbro', 'displayname': ...  2019-02-17   \n",
       "3  {'username': 'bougieblackbro', 'displayname': ...  2019-02-17   \n",
       "4  {'username': 'Verdeksolar', 'displayname': 'So...  2016-04-06   \n",
       "\n",
       "                                             content       search_keyword  \\\n",
       "0  Wake up with @timechols &amp; @kcboyce as they...  sonnen home battery   \n",
       "1  \"Companies like sonnen have developed battery ...  sonnen home battery   \n",
       "2  Sonnen has been one of the top competitors wit...  sonnen home battery   \n",
       "3  Sonnen has been one of the top competitors wit...  sonnen home battery   \n",
       "4  I'm impressed with Sonnen Battery stats compar...  sonnen home battery   \n",
       "\n",
       "            user_location  \n",
       "0           Brunswick, GA  \n",
       "1              Texas, USA  \n",
       "2  32.732577, -117.189463  \n",
       "3  32.732577, -117.189463  \n",
       "4             Phoenix, AZ  "
      ]
     },
     "execution_count": 13,
     "metadata": {},
     "output_type": "execute_result"
    }
   ],
   "source": [
    "df_coord"
   ]
  },
  {
   "cell_type": "code",
   "execution_count": 14,
   "metadata": {},
   "outputs": [],
   "source": [
    "search_keyword = \"sonnen home battery\"\n",
    "channel = 'twitter'"
   ]
  },
  {
   "cell_type": "code",
   "execution_count": 15,
   "metadata": {},
   "outputs": [],
   "source": [
    "task_id = db.select('crawl_task','task_id',f'keyword=\\\"{search_keyword}\\\" and channel=\\\"{channel}\\\"')[0]['task_id']"
   ]
  },
  {
   "cell_type": "code",
   "execution_count": 16,
   "metadata": {},
   "outputs": [
    {
     "name": "stdout",
     "output_type": "stream",
     "text": [
      "24519\n"
     ]
    }
   ],
   "source": [
    "print(task_id)"
   ]
  },
  {
   "cell_type": "code",
   "execution_count": 17,
   "metadata": {},
   "outputs": [],
   "source": [
    "df_insert = df_coord\n"
   ]
  },
  {
   "cell_type": "code",
   "execution_count": 18,
   "metadata": {},
   "outputs": [
    {
     "name": "stdout",
     "output_type": "stream",
     "text": [
      "{'username': 'ryfun', 'displayname': 'Scott Ryfun', 'id': 43323118, 'description': 'VP Programming, iHeartMedia, Most-Listened-To Man in South Georgia Radio! Mornings from 7 to 10 on 98.7 WGIG!', 'rawDescription': 'VP Programming, iHeartMedia, Most-Listened-To Man in South Georgia Radio! Mornings from 7 to 10 on 98.7 WGIG!', 'descriptionUrls': [], 'verified': False, 'created': datetime.datetime(2009, 5, 29, 12, 46, 58, tzinfo=datetime.timezone.utc), 'followersCount': 1490, 'friendsCount': 1440, 'statusesCount': 7782, 'favouritesCount': 11886, 'listedCount': 23, 'mediaCount': 579, 'location': 'Brunswick, GA', 'protected': False, 'linkUrl': 'http://facebook.com/ryfun', 'linkTcourl': 'https://t.co/pWysdOEsWr', 'profileImageUrl': 'https://pbs.twimg.com/profile_images/550012482/Disney_002__62__normal.jpg', 'profileBannerUrl': 'https://pbs.twimg.com/profile_banners/43323118/1481662233'}\n",
      "{'username': 'CNBlevins', 'displayname': 'Chad Blevins', 'id': 103178017, 'description': 'Father of 4, Energy Geek, Entrepreneur, Co-Founder of Smart Power Maps, Grid Economics, GeoCF, and Repower Holdings. (personal account)', 'rawDescription': 'Father of 4, Energy Geek, Entrepreneur, Co-Founder of Smart Power Maps, Grid Economics, GeoCF, and Repower Holdings. (personal account)', 'descriptionUrls': [], 'verified': False, 'created': datetime.datetime(2010, 1, 9, 4, 30, 36, tzinfo=datetime.timezone.utc), 'followersCount': 254, 'friendsCount': 536, 'statusesCount': 1707, 'favouritesCount': 3206, 'listedCount': 14, 'mediaCount': 256, 'location': 'Texas, USA', 'protected': False, 'linkUrl': None, 'linkTcourl': None, 'profileImageUrl': 'https://pbs.twimg.com/profile_images/619473382/HeadShot_normal.jpg', 'profileBannerUrl': None}\n",
      "{'username': 'bougieblackbro', 'displayname': 'Michael', 'id': 16321869, 'description': 'technology, podcasting, all bougie things for black folk', 'rawDescription': 'technology, podcasting, all bougie things for black folk', 'descriptionUrls': [], 'verified': False, 'created': datetime.datetime(2008, 9, 17, 1, 58, 6, tzinfo=datetime.timezone.utc), 'followersCount': 156, 'friendsCount': 165, 'statusesCount': 6645, 'favouritesCount': 680, 'listedCount': 18, 'mediaCount': 1285, 'location': '32.732577, -117.189463', 'protected': False, 'linkUrl': 'http://bougieblackbrother.com', 'linkTcourl': 'https://t.co/9L8IVbKenc', 'profileImageUrl': 'https://pbs.twimg.com/profile_images/844950602748715009/FnR7iYZU_normal.jpg', 'profileBannerUrl': 'https://pbs.twimg.com/profile_banners/16321869/1490286682'}\n",
      "{'username': 'bougieblackbro', 'displayname': 'Michael', 'id': 16321869, 'description': 'technology, podcasting, all bougie things for black folk', 'rawDescription': 'technology, podcasting, all bougie things for black folk', 'descriptionUrls': [], 'verified': False, 'created': datetime.datetime(2008, 9, 17, 1, 58, 6, tzinfo=datetime.timezone.utc), 'followersCount': 156, 'friendsCount': 165, 'statusesCount': 6645, 'favouritesCount': 680, 'listedCount': 18, 'mediaCount': 1285, 'location': '32.732577, -117.189463', 'protected': False, 'linkUrl': 'http://bougieblackbrother.com', 'linkTcourl': 'https://t.co/9L8IVbKenc', 'profileImageUrl': 'https://pbs.twimg.com/profile_images/844950602748715009/FnR7iYZU_normal.jpg', 'profileBannerUrl': 'https://pbs.twimg.com/profile_banners/16321869/1490286682'}\n",
      "{'username': 'Verdeksolar', 'displayname': 'Solar', 'id': 3260175206, 'description': '', 'rawDescription': '', 'descriptionUrls': [], 'verified': False, 'created': datetime.datetime(2015, 6, 29, 18, 18, 24, tzinfo=datetime.timezone.utc), 'followersCount': 13, 'friendsCount': 10, 'statusesCount': 14, 'favouritesCount': 1, 'listedCount': 1, 'mediaCount': 3, 'location': 'Phoenix, AZ', 'protected': False, 'linkUrl': 'http://www.verdeksolar.com', 'linkTcourl': 'https://t.co/XlQcIO9Swd', 'profileImageUrl': 'https://pbs.twimg.com/profile_images/675359837627150336/--mebV4h_normal.jpg', 'profileBannerUrl': 'https://pbs.twimg.com/profile_banners/3260175206/1451633203'}\n"
     ]
    }
   ],
   "source": [
    "for idx in df_insert.index :\n",
    "    post_date = df_insert.at[idx,'date']\n",
    "    text = df_insert.at[idx,'content']\n",
    "    title = df_insert.at[idx,'user']\n",
    "    print(title)\n",
    "    db.insert('crawl_contents',\n",
    "                                 task_id = task_id,\n",
    "                                text= text,\n",
    "                                post_date= post_date)"
   ]
  },
  {
   "cell_type": "code",
   "execution_count": 112,
   "metadata": {},
   "outputs": [],
   "source": [
    "dict_tesla,_ = analyaze_tweets(df_coord_tesla,keyword,'tesla' )\n",
    "dict_lg,_ = analyaze_tweets(df_coord_lg,keyword,'lg' )\n",
    "dict_sonnen,_ = analyaze_tweets(df_coord_sonnen,keyword,'sonnen' )\n",
    "dict_generac,_ = analyaze_tweets(df_coord_generac,keyword,'generac' )\n",
    "dict_byd,_ = analyaze_tweets(df_coord_byd,keyword,'byd' )\n"
   ]
  },
  {
   "cell_type": "code",
   "execution_count": 1,
   "metadata": {},
   "outputs": [
    {
     "ename": "NameError",
     "evalue": "name 'displayWordCloud' is not defined",
     "output_type": "error",
     "traceback": [
      "\u001b[1;31m---------------------------------------------------------------------------\u001b[0m",
      "\u001b[1;31mNameError\u001b[0m                                 Traceback (most recent call last)",
      "\u001b[1;32m<ipython-input-1-ba94d619646a>\u001b[0m in \u001b[0;36m<module>\u001b[1;34m\u001b[0m\n\u001b[1;32m----> 1\u001b[1;33m \u001b[0mdisplayWordCloud\u001b[0m\u001b[1;33m(\u001b[0m\u001b[0mdict_byd\u001b[0m\u001b[1;33m)\u001b[0m\u001b[1;33m\u001b[0m\u001b[1;33m\u001b[0m\u001b[0m\n\u001b[0m",
      "\u001b[1;31mNameError\u001b[0m: name 'displayWordCloud' is not defined"
     ]
    }
   ],
   "source": [
    "db.select(\"crawl_task\")"
   ]
  }
 ],
 "metadata": {
  "kernelspec": {
   "display_name": "dalmaden",
   "language": "python",
   "name": "dalmaden"
  },
  "language_info": {
   "codemirror_mode": {
    "name": "ipython",
    "version": 3
   },
   "file_extension": ".py",
   "mimetype": "text/x-python",
   "name": "python",
   "nbconvert_exporter": "python",
   "pygments_lexer": "ipython3",
   "version": "3.8.5"
  }
 },
 "nbformat": 4,
 "nbformat_minor": 4
}
